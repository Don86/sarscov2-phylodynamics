{
 "cells": [
  {
   "cell_type": "code",
   "execution_count": 3,
   "metadata": {},
   "outputs": [],
   "source": [
    "import numpy as np\n",
    "import pandas as pd\n",
    "\n",
    "import sys\n",
    "sys.path.append(\"/Users/don/Documents/automata\")\n",
    "import xio as xio\n",
    "\n",
    "path0=\"/Users/don/Documents/covid19/\""
   ]
  },
  {
   "cell_type": "code",
   "execution_count": 12,
   "metadata": {},
   "outputs": [],
   "source": [
    "c = xio.read_fasta(path0+\"data/gis_cov_n1002.fas\", delimiter=\"\")\n",
    "colnames_ls = [\"full_name\", \"seq\"]\n",
    "d0 = pd.DataFrame(data=c, columns=colnames_ls)\n",
    "d0[\"v_nm\"] = d0.apply(lambda row: str(row[\"full_name\"]).split(\"|\")[0], axis=1)\n",
    "d0[\"v_id\"] = d0.apply(lambda row: str(row[\"full_name\"]).split(\"|\")[1], axis=1)\n",
    "d0[\"date\"] = d0.apply(lambda row: str(row[\"full_name\"]).split(\"|\")[2], axis=1)\n",
    "d0[\"geoloc\"] = d0.apply(lambda row: str(row[\"v_nm\"]).split(\"/\")[1], axis=1)\n",
    "\n",
    "d0[\"name\"] = seq_keys_ls = [\"seq\" + str(x) for x in np.arange(len(d0))]\n",
    "\n",
    "def expand_provinces(geoloc):\n",
    "    new_geoloc = geoloc\n",
    "    if geoloc in [\"Guangzhou\", \"Shanghai\", \n",
    "                 \"Beijing\", \"Zhejiang\", \n",
    "                  \"Wuhan-Hu-1\", \"Yunnan\", \"Hefei\", \n",
    "                  \"Guangdong\", \"Jingzhou\", \"Foshan\", \n",
    "                  \"Wuhan\", \"Fujian\", \"Hangzhou\", \"Shenzhen\", \n",
    "                  \"Shandong\", \"Jiangxi\", \"Tianmen\", \n",
    "                  \"Sichuan\", \"Jiangsu\", \"Chongqing\"\n",
    "                 ]:\n",
    "        new_geoloc = \"China/\"+geoloc\n",
    "    return new_geoloc\n",
    "\n",
    "d0[\"geoloc\"] = d0.apply(lambda row: expand_provinces(str(row[\"geoloc\"])), axis=1)"
   ]
  },
  {
   "cell_type": "code",
   "execution_count": 19,
   "metadata": {},
   "outputs": [],
   "source": [
    "dm2 = d0[[\"full_name\", \"name\"]]\n",
    "dm2.to_csv(path0+\"data/gis_n1002_keys.csv\", index=False)"
   ]
  },
  {
   "cell_type": "code",
   "execution_count": 13,
   "metadata": {},
   "outputs": [],
   "source": [
    "dm = d0[[\"name\", \"date\", \"geoloc\"]]"
   ]
  },
  {
   "cell_type": "code",
   "execution_count": 14,
   "metadata": {},
   "outputs": [],
   "source": [
    "dm.to_csv(path0+\"data/gis_n1002_m.csv\", index=False)"
   ]
  },
  {
   "cell_type": "code",
   "execution_count": 16,
   "metadata": {},
   "outputs": [
    {
     "name": "stdout",
     "output_type": "stream",
     "text": [
      ">seq0\n",
      "tataccttcccaggtaacaa ... aaaatt-aattttagtagtg\n",
      ">seq1\n",
      "-ataccttcccaggtaacaa ... aaaatt-aattttagtagtg\n",
      ">seq2\n",
      "tataccttcccaggtaacaa ... aaaatt-aattttagtagtg\n",
      ">seq3\n",
      "tataccttcccaggtaacaa ... aaaatt-aattttagtagtg\n",
      ">seq4\n",
      "tataccttcccaggtaacaa ... aaaatt-aattttagtagtg\n",
      "Wrote to file /Users/don/Documents/covid19/data/gis_n1002.fas\n"
     ]
    }
   ],
   "source": [
    "xio.write_fasta(path0+\"data/gis_n1002.fas\", d0, [\"name\"], preview=5)"
   ]
  },
  {
   "cell_type": "code",
   "execution_count": null,
   "metadata": {},
   "outputs": [],
   "source": []
  }
 ],
 "metadata": {
  "kernelspec": {
   "display_name": "Python 3",
   "language": "python",
   "name": "python3"
  },
  "language_info": {
   "codemirror_mode": {
    "name": "ipython",
    "version": 3
   },
   "file_extension": ".py",
   "mimetype": "text/x-python",
   "name": "python",
   "nbconvert_exporter": "python",
   "pygments_lexer": "ipython3",
   "version": "3.7.3"
  }
 },
 "nbformat": 4,
 "nbformat_minor": 4
}
